{
 "cells": [
  {
   "cell_type": "code",
   "execution_count": 1,
   "id": "05e23871",
   "metadata": {},
   "outputs": [],
   "source": [
    "import torch\n",
    "import torch.nn.functional as F\n",
    "import matplotlib.pyplot as plt\n",
    "%matplotlib inline"
   ]
  },
  {
   "cell_type": "code",
   "execution_count": 2,
   "id": "eb93ecd9",
   "metadata": {},
   "outputs": [
    {
     "name": "stdout",
     "output_type": "stream",
     "text": [
      "['emma', 'olivia', 'ava', 'isabella', 'sophia', 'charlotte', 'mia', 'amelia']\n",
      "32084\n"
     ]
    }
   ],
   "source": [
    "# read all words in words.txt\n",
    "words = open('names.txt', 'r').read().splitlines()\n",
    "print(words[:8])\n",
    "print(len(words))"
   ]
  },
  {
   "cell_type": "code",
   "execution_count": 3,
   "id": "8ab92cdf",
   "metadata": {},
   "outputs": [
    {
     "name": "stdout",
     "output_type": "stream",
     "text": [
      "{1: 'a', 2: 'b', 3: 'c', 4: 'd', 5: 'e', 6: 'f', 7: 'g', 8: 'h', 9: 'i', 10: 'j', 11: 'k', 12: 'l', 13: 'm', 14: 'n', 15: 'o', 16: 'p', 17: 'q', 18: 'r', 19: 's', 20: 't', 21: 'u', 22: 'v', 23: 'w', 24: 'x', 25: 'y', 26: 'z', 0: '.'}\n"
     ]
    }
   ],
   "source": [
    "# building vocab of chars and mapping from integers\n",
    "chars = sorted(list(set(''.join(words))))\n",
    "stoi = {s:i+1 for i,s in enumerate(chars)}\n",
    "stoi['.'] = 0\n",
    "itos = {i:s for s, i in stoi.items()}\n",
    "print(itos)"
   ]
  },
  {
   "cell_type": "markdown",
   "id": "334179ad",
   "metadata": {},
   "source": [
    "## Dataset Creation"
   ]
  },
  {
   "cell_type": "code",
   "execution_count": 4,
   "id": "5ee12c1d",
   "metadata": {},
   "outputs": [],
   "source": [
    "# Create the dataset\n",
    "block_size = 3\n",
    "X, Y =[], []\n",
    "for w in words:\n",
    "    \n",
    "    #print(w)\n",
    "    context = [0] * block_size\n",
    "    for ch in w + '.':\n",
    "        ix = stoi[ch]\n",
    "        X.append(context)\n",
    "        Y.append(ix)\n",
    "        #print(''.join(itos[i] for i in context), '---->', itos[ix])\n",
    "        context = context[1:] + [ix]\n",
    "\n",
    "X = torch.tensor(X)\n",
    "Y = torch.tensor(Y)"
   ]
  },
  {
   "cell_type": "code",
   "execution_count": 5,
   "id": "4fbd5a85",
   "metadata": {},
   "outputs": [
    {
     "data": {
      "text/plain": [
       "(torch.Size([228522, 3]), torch.Size([228522]))"
      ]
     },
     "execution_count": 5,
     "metadata": {},
     "output_type": "execute_result"
    }
   ],
   "source": [
    "X.shape, Y.shape"
   ]
  },
  {
   "cell_type": "markdown",
   "id": "d46058fd",
   "metadata": {},
   "source": [
    "## Building embedding lookup table C\n",
    "* Earlier we had 27 chars with their representation in 27 dim\n",
    "* We will reduce the dim to 2 i.e 27 chars with representation of 2dim"
   ]
  },
  {
   "cell_type": "code",
   "execution_count": 6,
   "id": "f72276a7",
   "metadata": {},
   "outputs": [
    {
     "data": {
      "text/plain": [
       "tensor([-0.5158,  1.9160])"
      ]
     },
     "execution_count": 6,
     "metadata": {},
     "output_type": "execute_result"
    }
   ],
   "source": [
    "C = torch.randn((27, 2))\n",
    "C[5]"
   ]
  },
  {
   "cell_type": "code",
   "execution_count": 7,
   "id": "faf7337b",
   "metadata": {},
   "outputs": [
    {
     "data": {
      "text/plain": [
       "tensor([0, 0, 0, 0, 0, 1, 0, 0, 0, 0, 0, 0, 0, 0, 0, 0, 0, 0, 0, 0, 0, 0, 0, 0,\n",
       "        0, 0, 0])"
      ]
     },
     "execution_count": 7,
     "metadata": {},
     "output_type": "execute_result"
    }
   ],
   "source": [
    "F.one_hot(torch.tensor(5), num_classes = 27)"
   ]
  },
  {
   "cell_type": "code",
   "execution_count": 8,
   "id": "e53badf0",
   "metadata": {},
   "outputs": [
    {
     "data": {
      "text/plain": [
       "tensor([-0.5158,  1.9160])"
      ]
     },
     "execution_count": 8,
     "metadata": {},
     "output_type": "execute_result"
    }
   ],
   "source": [
    "F.one_hot(torch.tensor(5), num_classes = 27).float() @ C"
   ]
  },
  {
   "cell_type": "code",
   "execution_count": 9,
   "id": "d8d9619d",
   "metadata": {},
   "outputs": [
    {
     "data": {
      "text/plain": [
       "(torch.Size([228522, 3]), torch.Size([228522]))"
      ]
     },
     "execution_count": 9,
     "metadata": {},
     "output_type": "execute_result"
    }
   ],
   "source": [
    "X.shape, Y.shape"
   ]
  },
  {
   "cell_type": "code",
   "execution_count": 10,
   "id": "6b4779e3",
   "metadata": {},
   "outputs": [
    {
     "name": "stdout",
     "output_type": "stream",
     "text": [
      "torch.Size([228522, 3, 2])\n"
     ]
    }
   ],
   "source": [
    "emb = C[X]\n",
    "print(emb.shape)   # input shape\n",
    "#emb"
   ]
  },
  {
   "cell_type": "markdown",
   "id": "3a300953",
   "metadata": {},
   "source": [
    "## Hidden Layer implementation W1\n",
    "* Need to transform input 32, 3, 2 into something 32,6 so that multiplication is valid"
   ]
  },
  {
   "cell_type": "code",
   "execution_count": 11,
   "id": "9f930e26",
   "metadata": {},
   "outputs": [],
   "source": [
    "W1 = torch.randn((6, 100))\n",
    "b1 = torch.randn(100)"
   ]
  },
  {
   "cell_type": "code",
   "execution_count": 12,
   "id": "60009f31",
   "metadata": {},
   "outputs": [
    {
     "data": {
      "text/plain": [
       "torch.Size([228522, 6])"
      ]
     },
     "execution_count": 12,
     "metadata": {},
     "output_type": "execute_result"
    }
   ],
   "source": [
    "torch.cat([emb[:,0,:], emb[:,1,:], emb[:,2,:]], 1).shape"
   ]
  },
  {
   "cell_type": "code",
   "execution_count": 13,
   "id": "2c52277f",
   "metadata": {},
   "outputs": [
    {
     "data": {
      "text/plain": [
       "torch.Size([228522, 2])"
      ]
     },
     "execution_count": 13,
     "metadata": {},
     "output_type": "execute_result"
    }
   ],
   "source": [
    "emb[:,1,:].shape"
   ]
  },
  {
   "cell_type": "code",
   "execution_count": 14,
   "id": "814e950d",
   "metadata": {},
   "outputs": [
    {
     "data": {
      "text/plain": [
       "torch.Size([228522, 6])"
      ]
     },
     "execution_count": 14,
     "metadata": {},
     "output_type": "execute_result"
    }
   ],
   "source": [
    "torch.cat(torch.unbind(emb, 1), 1).shape"
   ]
  },
  {
   "cell_type": "code",
   "execution_count": 16,
   "id": "420cdc8c",
   "metadata": {},
   "outputs": [],
   "source": [
    "#emb.view(32, 6) == torch.cat(torch.unbind(emb, 1), 1)"
   ]
  },
  {
   "cell_type": "markdown",
   "id": "4e008908",
   "metadata": {},
   "source": [
    "### Hidden layer h"
   ]
  },
  {
   "cell_type": "code",
   "execution_count": 17,
   "id": "b51ff88a",
   "metadata": {},
   "outputs": [
    {
     "data": {
      "text/plain": [
       "torch.Size([228522, 100])"
      ]
     },
     "execution_count": 17,
     "metadata": {},
     "output_type": "execute_result"
    }
   ],
   "source": [
    "h = torch.tanh(emb.view(-1, 6) @ W1 + b1)\n",
    "h.shape"
   ]
  },
  {
   "cell_type": "code",
   "execution_count": 18,
   "id": "52053a91",
   "metadata": {},
   "outputs": [
    {
     "data": {
      "text/plain": [
       "tensor([[-0.8995,  0.9928, -0.9697,  ...,  0.7238, -0.1298,  0.9883],\n",
       "        [-0.9999,  0.9997, -0.7371,  ..., -0.9986, -0.4019,  0.9997],\n",
       "        [ 0.4652,  0.9937,  0.9799,  ...,  0.9941, -0.0584,  0.8692],\n",
       "        ...,\n",
       "        [-0.9804, -0.7210, -0.1487,  ..., -1.0000,  0.6977, -0.9618],\n",
       "        [ 0.9994, -0.9929,  0.1727,  ..., -0.8716,  0.0052, -0.8916],\n",
       "        [-0.9804, -0.2014, -0.3786,  ..., -1.0000,  0.8605, -0.9987]])"
      ]
     },
     "execution_count": 18,
     "metadata": {},
     "output_type": "execute_result"
    }
   ],
   "source": [
    "h"
   ]
  },
  {
   "cell_type": "markdown",
   "id": "98fc5bf2",
   "metadata": {},
   "source": [
    "## Output Layer"
   ]
  },
  {
   "cell_type": "code",
   "execution_count": 19,
   "id": "149c2236",
   "metadata": {},
   "outputs": [],
   "source": [
    "W2 = torch.randn((100, 27))\n",
    "b2 = torch.randn(27)"
   ]
  },
  {
   "cell_type": "code",
   "execution_count": 20,
   "id": "10cafd0d",
   "metadata": {},
   "outputs": [
    {
     "data": {
      "text/plain": [
       "torch.Size([228522, 27])"
      ]
     },
     "execution_count": 20,
     "metadata": {},
     "output_type": "execute_result"
    }
   ],
   "source": [
    "logits = h @ W2+b2\n",
    "logits.shape"
   ]
  },
  {
   "cell_type": "code",
   "execution_count": 21,
   "id": "c322a694",
   "metadata": {},
   "outputs": [],
   "source": [
    "# Softmax\n",
    "counts = logits.exp()\n",
    "probs = counts / counts.sum(1, keepdims = True)\n",
    "#probs[0].sum()"
   ]
  },
  {
   "cell_type": "code",
   "execution_count": 22,
   "id": "55aec570",
   "metadata": {},
   "outputs": [
    {
     "data": {
      "text/plain": [
       "torch.Size([228522])"
      ]
     },
     "execution_count": 22,
     "metadata": {},
     "output_type": "execute_result"
    }
   ],
   "source": [
    "Y.shape"
   ]
  },
  {
   "cell_type": "code",
   "execution_count": 23,
   "id": "6afa258f",
   "metadata": {},
   "outputs": [
    {
     "data": {
      "text/plain": [
       "tensor([ 0,  1,  2,  3,  4,  5,  6,  7,  8,  9, 10, 11, 12, 13, 14, 15, 16, 17,\n",
       "        18, 19, 20, 21, 22, 23, 24, 25, 26, 27, 28, 29, 30, 31])"
      ]
     },
     "execution_count": 23,
     "metadata": {},
     "output_type": "execute_result"
    }
   ],
   "source": [
    "torch.arange(32)"
   ]
  },
  {
   "cell_type": "code",
   "execution_count": 26,
   "id": "17083f40",
   "metadata": {},
   "outputs": [],
   "source": [
    "#probs[torch.arange(32), Y]"
   ]
  },
  {
   "cell_type": "code",
   "execution_count": 28,
   "id": "e87ff56d",
   "metadata": {},
   "outputs": [],
   "source": [
    "# # Negative log likelihood\n",
    "# loss = -probs[torch.arange(32), Y].log().mean()\n",
    "# loss"
   ]
  },
  {
   "cell_type": "markdown",
   "id": "991fb3f7",
   "metadata": {},
   "source": [
    "## SUMMARISING"
   ]
  },
  {
   "cell_type": "code",
   "execution_count": 29,
   "id": "0b5b633a",
   "metadata": {},
   "outputs": [
    {
     "data": {
      "text/plain": [
       "(torch.Size([228522, 3]), torch.Size([228522]))"
      ]
     },
     "execution_count": 29,
     "metadata": {},
     "output_type": "execute_result"
    }
   ],
   "source": [
    "X.shape , Y.shape"
   ]
  },
  {
   "cell_type": "code",
   "execution_count": 93,
   "id": "b2ebdef3",
   "metadata": {},
   "outputs": [],
   "source": [
    "g = torch.Generator().manual_seed(2147483647)\n",
    "#----Embedding layer-------\n",
    "C = torch.randn((27,2), generator = g)\n",
    "\n",
    "#----Hidden Layer -------\n",
    "W1 = torch.randn((6, 100), generator = g)\n",
    "b1 = torch.randn(100, generator = g)\n",
    "\n",
    "# ----Output Layer--------\n",
    "W2 = torch.randn((100,27), generator = g)\n",
    "b2 = torch.randn(27, generator = g)\n",
    "\n",
    "parameters = [C, W1, b1, W2, b2]"
   ]
  },
  {
   "cell_type": "code",
   "execution_count": 94,
   "id": "1307ed48",
   "metadata": {},
   "outputs": [
    {
     "name": "stdout",
     "output_type": "stream",
     "text": [
      "Number of parameters of this model : 3481\n"
     ]
    }
   ],
   "source": [
    "print(f\"Number of parameters of this model : {sum(p.nelement() for p in parameters)}\")"
   ]
  },
  {
   "cell_type": "code",
   "execution_count": 95,
   "id": "cadd6d87",
   "metadata": {},
   "outputs": [
    {
     "data": {
      "text/plain": [
       "tensor(19.5028)"
      ]
     },
     "execution_count": 95,
     "metadata": {},
     "output_type": "execute_result"
    }
   ],
   "source": [
    "emb = C[X] \n",
    "h = torch.tanh(emb.view(-1, 6) @ W1+b1) #(32, 100)\n",
    "logits = h @ W2+b2\n",
    "# counts = logits.exp()\n",
    "# probs = counts / counts.sum(1, keepdims = True)\n",
    "# loss = -probs[torch.arange(32), Y].log().mean()\n",
    "loss = F.cross_entropy(logits, Y)\n",
    "loss"
   ]
  },
  {
   "cell_type": "code",
   "execution_count": 96,
   "id": "4bce79e7",
   "metadata": {},
   "outputs": [
    {
     "data": {
      "text/plain": [
       "tensor(19.5028)"
      ]
     },
     "execution_count": 96,
     "metadata": {},
     "output_type": "execute_result"
    }
   ],
   "source": [
    "F.cross_entropy(logits, Y)"
   ]
  },
  {
   "cell_type": "markdown",
   "id": "bbf293bd",
   "metadata": {},
   "source": [
    "## Training\n",
    "#### Now we want to minimise this particular loss"
   ]
  },
  {
   "cell_type": "code",
   "execution_count": 97,
   "id": "c8365381",
   "metadata": {},
   "outputs": [],
   "source": [
    "for p in parameters : \n",
    "    p.requires_grad = True"
   ]
  },
  {
   "cell_type": "code",
   "execution_count": 98,
   "id": "3b949871",
   "metadata": {},
   "outputs": [],
   "source": [
    "# for _ in range(10): \n",
    "#     # Forward Pass\n",
    "#     emb = C[X] \n",
    "#     h = torch.tanh(emb.view(-1, 6) @ W1+b1) #(32, 100)\n",
    "#     logits = h @ W2+b2\n",
    "#     loss = F.cross_entropy(logits, Y)\n",
    "#     print(f'Loss : {loss.item()}')\n",
    "\n",
    "#     # Backward Pass\n",
    "#     for p in parameters:\n",
    "#         p.grad = None\n",
    "#     loss.backward()\n",
    "\n",
    "#     # Update\n",
    "#     for p in parameters:\n",
    "#         p.data += -0.1 * p.grad"
   ]
  },
  {
   "cell_type": "markdown",
   "id": "d018979a",
   "metadata": {},
   "source": [
    "It takes a long time to calculate loss as we are going throug all. We should go through batches and calculate loss"
   ]
  },
  {
   "cell_type": "markdown",
   "id": "04224b27",
   "metadata": {},
   "source": [
    "### Mini batch training "
   ]
  },
  {
   "cell_type": "code",
   "execution_count": 99,
   "id": "6f95b243",
   "metadata": {},
   "outputs": [
    {
     "data": {
      "text/plain": [
       "tensor([ 91668, 149928, 105866, 209235,  32264, 110963,   8122, 149097,  13567,\n",
       "         75996, 133331, 202422, 157818, 154634, 103207, 198254, 176608, 149097,\n",
       "         78636,   6002,  34002, 205042, 132544,  10125, 208663,   2343, 112115,\n",
       "        193406, 135562,  52939,  23044, 196452])"
      ]
     },
     "execution_count": 99,
     "metadata": {},
     "output_type": "execute_result"
    }
   ],
   "source": [
    "torch.randint(0, X.shape[0], (32,)) # this is the random indexes of our dataset"
   ]
  },
  {
   "cell_type": "code",
   "execution_count": 100,
   "id": "f78d330a",
   "metadata": {},
   "outputs": [],
   "source": [
    "lre = torch.linspace(-3, 0, 1000) # learning rate exponents\n",
    "lrs = 10**lre\n",
    "#lrs # candidates for learning rates"
   ]
  },
  {
   "cell_type": "code",
   "execution_count": 91,
   "id": "271b3998",
   "metadata": {},
   "outputs": [],
   "source": [
    "lri = []\n",
    "lossi = []\n",
    "for i in range(1000): \n",
    "    \n",
    "    # mini batch construct\n",
    "    ix = torch.randint(0, X.shape[0], (32,))\n",
    "    # Forward Pass\n",
    "    emb = C[X[ix]]  # 32,3,2\n",
    "    h = torch.tanh(emb.view(-1, 6) @ W1+b1) #(32, 100)\n",
    "    logits = h @ W2+b2\n",
    "    loss = F.cross_entropy(logits, Y[ix])\n",
    "    #print(f'Loss : {loss.item()}')\n",
    "\n",
    "    # Backward Pass\n",
    "    for p in parameters:\n",
    "        p.grad = None\n",
    "    loss.backward()\n",
    "    \n",
    "    # Update\n",
    "    lr = lrs[i]\n",
    "    for p in parameters:\n",
    "        p.data += -lr * p.grad\n",
    "    \n",
    "    # track stats\n",
    "    lri.append(lre[i])\n",
    "    lossi.append(loss.item())\n",
    "    \n",
    "#print(f'Loss : {loss.item()}')"
   ]
  },
  {
   "cell_type": "code",
   "execution_count": 92,
   "id": "d35bca82",
   "metadata": {},
   "outputs": [
    {
     "data": {
      "text/plain": [
       "[<matplotlib.lines.Line2D at 0x7fd33b389f10>]"
      ]
     },
     "execution_count": 92,
     "metadata": {},
     "output_type": "execute_result"
    },
    {
     "data": {
      "image/png": "[encoded data removed]",
      "text/plain": [
       "<Figure size 640x480 with 1 Axes>"
      ]
     },
     "metadata": {},
     "output_type": "display_data"
    }
   ],
   "source": [
    "plt.plot(lri, lossi)"
   ]
  },
  {
   "cell_type": "code",
   "execution_count": 111,
   "id": "feb731c4",
   "metadata": {},
   "outputs": [],
   "source": [
    "lri = []\n",
    "lossi = []\n",
    "for i in range(9000): \n",
    "    \n",
    "    # mini batch construct\n",
    "    ix = torch.randint(0, X.shape[0], (32,))\n",
    "    # Forward Pass\n",
    "    emb = C[X[ix]]  # 32,3,2\n",
    "    h = torch.tanh(emb.view(-1, 6) @ W1+b1) #(32, 100)\n",
    "    logits = h @ W2+b2\n",
    "    loss = F.cross_entropy(logits, Y[ix])\n",
    "    #print(f'Loss : {loss.item()}')\n",
    "\n",
    "    # Backward Pass\n",
    "    for p in parameters:\n",
    "        p.grad = None\n",
    "    loss.backward()\n",
    "    \n",
    "    # Update\n",
    "    #lr = lrs[i]\n",
    "    lr = 0.01\n",
    "    for p in parameters:\n",
    "        p.data += -lr * p.grad\n",
    "    \n",
    "    # track stats\n",
    "    #lri.append(lre[i])\n",
    "    #lossi.append(loss.item())\n",
    "    \n",
    "#print(f'Loss : {loss.item()}')"
   ]
  },
  {
   "cell_type": "markdown",
   "id": "24508865",
   "metadata": {},
   "source": [
    "### best lr exponent comes out to be -1 that is lr = 0.1"
   ]
  },
  {
   "cell_type": "code",
   "execution_count": 112,
   "id": "dd6ac9a2",
   "metadata": {},
   "outputs": [
    {
     "data": {
      "text/plain": [
       "tensor(2.3168, grad_fn=<NllLossBackward0>)"
      ]
     },
     "execution_count": 112,
     "metadata": {},
     "output_type": "execute_result"
    }
   ],
   "source": [
    "emb = C[X]\n",
    "h = torch.tanh(emb.view(-1, 6) @ W1+b1)\n",
    "logits = h @ W2 +b2\n",
    "loss = F.cross_entropy(logits, Y)\n",
    "loss"
   ]
  },
  {
   "cell_type": "markdown",
   "id": "2d7140db",
   "metadata": {},
   "source": [
    "### Best loss till now than bigram 2.31 < 2.45"
   ]
  },
  {
   "cell_type": "markdown",
   "id": "2a9817cb",
   "metadata": {},
   "source": [
    "## Train test and val split"
   ]
  },
  {
   "cell_type": "code",
   "execution_count": 142,
   "id": "07dea2d2",
   "metadata": {},
   "outputs": [
    {
     "name": "stdout",
     "output_type": "stream",
     "text": [
      "torch.Size([182807, 3]) torch.Size([182807])\n",
      "torch.Size([22865, 3]) torch.Size([22865])\n",
      "torch.Size([22850, 3]) torch.Size([22850])\n"
     ]
    }
   ],
   "source": [
    "# build the dataset\n",
    "block_size = 3 # context length: how many characters do we take to predict the next one?\n",
    "\n",
    "def build_dataset(words):  \n",
    "  X, Y = [], []\n",
    "  for w in words:\n",
    "\n",
    "    #print(w)\n",
    "    context = [0] * block_size\n",
    "    for ch in w + '.':\n",
    "      ix = stoi[ch]\n",
    "      X.append(context)\n",
    "      Y.append(ix)\n",
    "      #print(''.join(itos[i] for i in context), '--->', itos[ix])\n",
    "      context = context[1:] + [ix] # crop and append\n",
    "\n",
    "  X = torch.tensor(X)\n",
    "  Y = torch.tensor(Y)\n",
    "  print(X.shape, Y.shape)\n",
    "  return X, Y\n",
    "\n",
    "import random\n",
    "random.seed(42)\n",
    "random.shuffle(words)\n",
    "n1 = int(0.8*len(words))\n",
    "n2 = int(0.9*len(words))\n",
    "\n",
    "Xtr, Ytr = build_dataset(words[:n1])\n",
    "Xdev, Ydev = build_dataset(words[n1:n2])\n",
    "Xte, Yte = build_dataset(words[n2:])"
   ]
  },
  {
   "cell_type": "code",
   "execution_count": 143,
   "id": "5b181ac4",
   "metadata": {},
   "outputs": [
    {
     "data": {
      "text/plain": [
       "(32084, 25667, 28875)"
      ]
     },
     "execution_count": 143,
     "metadata": {},
     "output_type": "execute_result"
    }
   ],
   "source": [
    "len(words), n1, n2"
   ]
  },
  {
   "cell_type": "code",
   "execution_count": 144,
   "id": "30281283",
   "metadata": {},
   "outputs": [
    {
     "data": {
      "text/plain": [
       "(torch.Size([182807, 3]), torch.Size([182807]))"
      ]
     },
     "execution_count": 144,
     "metadata": {},
     "output_type": "execute_result"
    }
   ],
   "source": [
    "Xtr.shape, Ytr.shape"
   ]
  },
  {
   "cell_type": "code",
   "execution_count": 145,
   "id": "053f1de0",
   "metadata": {},
   "outputs": [
    {
     "name": "stdout",
     "output_type": "stream",
     "text": [
      "Number of parameters of this model : 10281\n"
     ]
    }
   ],
   "source": [
    "g = torch.Generator().manual_seed(2147483647)\n",
    "#----Embedding layer-------\n",
    "C = torch.randn((27,2), generator = g)\n",
    "\n",
    "#----Hidden Layer -------\n",
    "W1 = torch.randn((6, 300), generator = g)\n",
    "b1 = torch.randn(300, generator = g)\n",
    "\n",
    "# ----Output Layer--------\n",
    "W2 = torch.randn((300,27), generator = g)\n",
    "b2 = torch.randn(27, generator = g)\n",
    "\n",
    "parameters = [C, W1, b1, W2, b2]\n",
    "print(f\"Number of parameters of this model : {sum(p.nelement() for p in parameters)}\")\n",
    "\n",
    "for p in parameters : \n",
    "    p.requires_grad = True"
   ]
  },
  {
   "cell_type": "code",
   "execution_count": null,
   "id": "0d460e85",
   "metadata": {},
   "outputs": [],
   "source": [
    "lri = []\n",
    "lossi = []\n",
    "stepi = []\n",
    "for i in range(30000): \n",
    "    \n",
    "    # mini batch construct\n",
    "    ix = torch.randint(0, Xtr.shape[0], (32,))\n",
    "    # Forward Pass\n",
    "    emb = C[Xtr[ix]]  # 32,3,2\n",
    "    h = torch.tanh(emb.view(-1, 6) @ W1+b1) #(32, 100)\n",
    "    logits = h @ W2+b2\n",
    "    loss = F.cross_entropy(logits, Ytr[ix])\n",
    "    #print(f'Loss : {loss.item()}')\n",
    "\n",
    "    # Backward Pass\n",
    "    for p in parameters:\n",
    "        p.grad = None\n",
    "    loss.backward()\n",
    "    \n",
    "    # Update\n",
    "    #lr = lrs[i]\n",
    "    lr = 0.05\n",
    "    for p in parameters:\n",
    "        p.data += -lr * p.grad\n",
    "    \n",
    "    # track stats\n",
    "    #lri.append(lre[i])\n",
    "    stepi.append(i)\n",
    "    lossi.append(loss.item())\n",
    "    \n",
    "print(f'Loss : {loss.item()}')"
   ]
  },
  {
   "cell_type": "code",
   "execution_count": null,
   "id": "e73d4aea",
   "metadata": {},
   "outputs": [],
   "source": [
    "plt.plot(stepi, lossi)"
   ]
  },
  {
   "cell_type": "markdown",
   "id": "e922359f",
   "metadata": {},
   "source": [
    "### Evaluating the loss through the Val set\n",
    "Not ovefitting but underfitting"
   ]
  },
  {
   "cell_type": "code",
   "execution_count": null,
   "id": "a6a46fba",
   "metadata": {},
   "outputs": [],
   "source": [
    "emb = C[Xdev]\n",
    "h = torch.tanh(emb.view(-1, 6) @ W1+b1)\n",
    "logits = h @ W2 +b2\n",
    "loss = F.cross_entropy(logits, Ydev)\n",
    "loss"
   ]
  },
  {
   "cell_type": "code",
   "execution_count": null,
   "id": "f657cf8e",
   "metadata": {},
   "outputs": [],
   "source": [
    "emb = C[Xtr]\n",
    "h = torch.tanh(emb.view(-1, 6) @ W1+b1)\n",
    "logits = h @ W2 +b2\n",
    "loss = F.cross_entropy(logits, Ytr)\n",
    "loss"
   ]
  },
  {
   "cell_type": "code",
   "execution_count": null,
   "id": "48b28683",
   "metadata": {},
   "outputs": [],
   "source": []
  }
 ],
 "metadata": {
  "kernelspec": {
   "display_name": "Python 3 (ipykernel)",
   "language": "python",
   "name": "python3"
  },
  "language_info": {
   "codemirror_mode": {
    "name": "ipython",
    "version": 3
   },
   "file_extension": ".py",
   "mimetype": "text/x-python",
   "name": "python",
   "nbconvert_exporter": "python",
   "pygments_lexer": "ipython3",
   "version": "3.11.4"
  }
 },
 "nbformat": 4,
 "nbformat_minor": 5
}
