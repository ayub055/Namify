{
 "cells": [
  {
   "cell_type": "code",
   "execution_count": 1,
   "id": "759a99ca",
   "metadata": {},
   "outputs": [],
   "source": [
    "import torch\n",
    "import torch.nn.functional as F\n",
    "import matplotlib.pyplot as plt\n",
    "%matplotlib inline"
   ]
  },
  {
   "cell_type": "code",
   "execution_count": 2,
   "id": "1245dc91",
   "metadata": {},
   "outputs": [
    {
     "name": "stdout",
     "output_type": "stream",
     "text": [
      "['emma', 'olivia', 'ava', 'isabella', 'sophia', 'charlotte', 'mia', 'amelia']\n",
      "32084\n"
     ]
    }
   ],
   "source": [
    "# read all words in words.txt\n",
    "words = open('names.txt', 'r').read().splitlines()\n",
    "print(words[:8])\n",
    "print(len(words))"
   ]
  },
  {
   "cell_type": "code",
   "execution_count": 3,
   "id": "67f34c18",
   "metadata": {},
   "outputs": [
    {
     "name": "stdout",
     "output_type": "stream",
     "text": [
      "{1: 'a', 2: 'b', 3: 'c', 4: 'd', 5: 'e', 6: 'f', 7: 'g', 8: 'h', 9: 'i', 10: 'j', 11: 'k', 12: 'l', 13: 'm', 14: 'n', 15: 'o', 16: 'p', 17: 'q', 18: 'r', 19: 's', 20: 't', 21: 'u', 22: 'v', 23: 'w', 24: 'x', 25: 'y', 26: 'z', 0: '.'}\n"
     ]
    }
   ],
   "source": [
    "# building vocab of chars and mapping from integers\n",
    "chars = sorted(list(set(''.join(words))))\n",
    "stoi = {s:i+1 for i,s in enumerate(chars)}\n",
    "stoi['.'] = 0\n",
    "itos = {i:s for s, i in stoi.items()}\n",
    "print(itos)"
   ]
  },
  {
   "cell_type": "markdown",
   "id": "9784ce2b",
   "metadata": {},
   "source": [
    "## Dataset Creation"
   ]
  },
  {
   "cell_type": "code",
   "execution_count": 4,
   "id": "cc8eac09",
   "metadata": {},
   "outputs": [],
   "source": [
    "# Create the dataset\n",
    "block_size = 3\n",
    "X, Y =[], []\n",
    "for w in words:\n",
    "    \n",
    "    #print(w)\n",
    "    context = [0] * block_size\n",
    "    for ch in w + '.':\n",
    "        ix = stoi[ch]\n",
    "        X.append(context)\n",
    "        Y.append(ix)\n",
    "        #print(''.join(itos[i] for i in context), '---->', itos[ix])\n",
    "        context = context[1:] + [ix]\n",
    "\n",
    "X = torch.tensor(X)\n",
    "Y = torch.tensor(Y)"
   ]
  },
  {
   "cell_type": "code",
   "execution_count": 5,
   "id": "adbf4ae5",
   "metadata": {},
   "outputs": [
    {
     "data": {
      "text/plain": [
       "(torch.Size([228522, 3]), torch.Size([228522]))"
      ]
     },
     "execution_count": 5,
     "metadata": {},
     "output_type": "execute_result"
    }
   ],
   "source": [
    "X.shape, Y.shape"
   ]
  },
  {
   "cell_type": "markdown",
   "id": "7f1e3991",
   "metadata": {},
   "source": [
    "## Building embedding lookup table C\n",
    "* Earlier we had 27 chars with their representation in 27 dim\n",
    "* We will reduce the dim to 2 i.e 27 chars with representation of 2dim"
   ]
  },
  {
   "cell_type": "code",
   "execution_count": 6,
   "id": "f23ec11a",
   "metadata": {},
   "outputs": [
    {
     "data": {
      "text/plain": [
       "tensor([-0.3960,  0.2638])"
      ]
     },
     "execution_count": 6,
     "metadata": {},
     "output_type": "execute_result"
    }
   ],
   "source": [
    "C = torch.randn((27, 2))\n",
    "C[5]"
   ]
  },
  {
   "cell_type": "code",
   "execution_count": 7,
   "id": "fafb3edf",
   "metadata": {},
   "outputs": [
    {
     "data": {
      "text/plain": [
       "tensor([0, 0, 0, 0, 0, 1, 0, 0, 0, 0, 0, 0, 0, 0, 0, 0, 0, 0, 0, 0, 0, 0, 0, 0,\n",
       "        0, 0, 0])"
      ]
     },
     "execution_count": 7,
     "metadata": {},
     "output_type": "execute_result"
    }
   ],
   "source": [
    "F.one_hot(torch.tensor(5), num_classes = 27)"
   ]
  },
  {
   "cell_type": "code",
   "execution_count": 8,
   "id": "df42926a",
   "metadata": {},
   "outputs": [
    {
     "data": {
      "text/plain": [
       "tensor([-0.3960,  0.2638])"
      ]
     },
     "execution_count": 8,
     "metadata": {},
     "output_type": "execute_result"
    }
   ],
   "source": [
    "F.one_hot(torch.tensor(5), num_classes = 27).float() @ C"
   ]
  },
  {
   "cell_type": "code",
   "execution_count": 9,
   "id": "0affd75e",
   "metadata": {},
   "outputs": [
    {
     "data": {
      "text/plain": [
       "(torch.Size([228522, 3]), torch.Size([228522]))"
      ]
     },
     "execution_count": 9,
     "metadata": {},
     "output_type": "execute_result"
    }
   ],
   "source": [
    "X.shape, Y.shape"
   ]
  },
  {
   "cell_type": "code",
   "execution_count": 10,
   "id": "6592b964",
   "metadata": {},
   "outputs": [
    {
     "name": "stdout",
     "output_type": "stream",
     "text": [
      "torch.Size([228522, 3, 2])\n"
     ]
    }
   ],
   "source": [
    "emb = C[X]\n",
    "print(emb.shape)   # input shape\n",
    "#emb"
   ]
  },
  {
   "cell_type": "markdown",
   "id": "c656be53",
   "metadata": {},
   "source": [
    "## Hidden Layer implementation W1\n",
    "* Need to transform input 32, 3, 2 into something 32,6 so that multiplication is valid"
   ]
  },
  {
   "cell_type": "code",
   "execution_count": 11,
   "id": "e3a730f7",
   "metadata": {},
   "outputs": [],
   "source": [
    "W1 = torch.randn((6, 100))\n",
    "b1 = torch.randn(100)"
   ]
  },
  {
   "cell_type": "code",
   "execution_count": 12,
   "id": "b5b509ec",
   "metadata": {},
   "outputs": [
    {
     "data": {
      "text/plain": [
       "torch.Size([228522, 6])"
      ]
     },
     "execution_count": 12,
     "metadata": {},
     "output_type": "execute_result"
    }
   ],
   "source": [
    "torch.cat([emb[:,0,:], emb[:,1,:], emb[:,2,:]], 1).shape"
   ]
  },
  {
   "cell_type": "code",
   "execution_count": 13,
   "id": "c1fc7b7f",
   "metadata": {},
   "outputs": [
    {
     "data": {
      "text/plain": [
       "torch.Size([228522, 2])"
      ]
     },
     "execution_count": 13,
     "metadata": {},
     "output_type": "execute_result"
    }
   ],
   "source": [
    "emb[:,1,:].shape"
   ]
  },
  {
   "cell_type": "code",
   "execution_count": 14,
   "id": "cac28190",
   "metadata": {},
   "outputs": [
    {
     "data": {
      "text/plain": [
       "torch.Size([228522, 6])"
      ]
     },
     "execution_count": 14,
     "metadata": {},
     "output_type": "execute_result"
    }
   ],
   "source": [
    "torch.cat(torch.unbind(emb, 1), 1).shape"
   ]
  },
  {
   "cell_type": "code",
   "execution_count": 15,
   "id": "c1f521ab",
   "metadata": {},
   "outputs": [],
   "source": [
    "#emb.view(32, 6) == torch.cat(torch.unbind(emb, 1), 1)"
   ]
  },
  {
   "cell_type": "markdown",
   "id": "c0311fe5",
   "metadata": {},
   "source": [
    "### Hidden layer h"
   ]
  },
  {
   "cell_type": "code",
   "execution_count": 16,
   "id": "0b5adf96",
   "metadata": {},
   "outputs": [
    {
     "data": {
      "text/plain": [
       "torch.Size([228522, 100])"
      ]
     },
     "execution_count": 16,
     "metadata": {},
     "output_type": "execute_result"
    }
   ],
   "source": [
    "h = torch.tanh(emb.view(-1, 6) @ W1 + b1)\n",
    "h.shape"
   ]
  },
  {
   "cell_type": "code",
   "execution_count": 17,
   "id": "7a4aeb97",
   "metadata": {},
   "outputs": [
    {
     "data": {
      "text/plain": [
       "tensor([[-0.9882,  0.9991,  0.4543,  ...,  0.9999, -0.9753,  1.0000],\n",
       "        [-0.9840, -0.4678,  1.0000,  ...,  0.9980, -0.3181,  0.8698],\n",
       "        [-0.1615, -0.9126,  0.9669,  ...,  0.8804, -0.9906, -0.3194],\n",
       "        ...,\n",
       "        [-0.7056, -0.9290,  0.9979,  ..., -1.0000, -0.7590, -0.9995],\n",
       "        [ 0.5023, -0.9042, -0.4263,  ...,  0.9581, -0.9998, -0.9999],\n",
       "        [-0.9454, -0.7046, -0.9994,  ..., -0.9914,  0.2792,  0.8098]])"
      ]
     },
     "execution_count": 17,
     "metadata": {},
     "output_type": "execute_result"
    }
   ],
   "source": [
    "h"
   ]
  },
  {
   "cell_type": "markdown",
   "id": "abcf4468",
   "metadata": {},
   "source": [
    "## Output Layer"
   ]
  },
  {
   "cell_type": "code",
   "execution_count": 18,
   "id": "8bc89f36",
   "metadata": {},
   "outputs": [],
   "source": [
    "W2 = torch.randn((100, 27))\n",
    "b2 = torch.randn(27)"
   ]
  },
  {
   "cell_type": "code",
   "execution_count": 19,
   "id": "9bb67ecf",
   "metadata": {},
   "outputs": [
    {
     "data": {
      "text/plain": [
       "torch.Size([228522, 27])"
      ]
     },
     "execution_count": 19,
     "metadata": {},
     "output_type": "execute_result"
    }
   ],
   "source": [
    "logits = h @ W2+b2\n",
    "logits.shape"
   ]
  },
  {
   "cell_type": "code",
   "execution_count": 20,
   "id": "71613ef5",
   "metadata": {},
   "outputs": [],
   "source": [
    "# Softmax\n",
    "counts = logits.exp()\n",
    "probs = counts / counts.sum(1, keepdims = True)\n",
    "#probs[0].sum()"
   ]
  },
  {
   "cell_type": "code",
   "execution_count": 21,
   "id": "37220835",
   "metadata": {},
   "outputs": [
    {
     "data": {
      "text/plain": [
       "torch.Size([228522])"
      ]
     },
     "execution_count": 21,
     "metadata": {},
     "output_type": "execute_result"
    }
   ],
   "source": [
    "Y.shape"
   ]
  },
  {
   "cell_type": "code",
   "execution_count": 22,
   "id": "de138530",
   "metadata": {},
   "outputs": [
    {
     "data": {
      "text/plain": [
       "tensor([ 0,  1,  2,  3,  4,  5,  6,  7,  8,  9, 10, 11, 12, 13, 14, 15, 16, 17,\n",
       "        18, 19, 20, 21, 22, 23, 24, 25, 26, 27, 28, 29, 30, 31])"
      ]
     },
     "execution_count": 22,
     "metadata": {},
     "output_type": "execute_result"
    }
   ],
   "source": [
    "torch.arange(32)"
   ]
  },
  {
   "cell_type": "code",
   "execution_count": 23,
   "id": "056b4d6e",
   "metadata": {},
   "outputs": [],
   "source": [
    "#probs[torch.arange(32), Y]"
   ]
  },
  {
   "cell_type": "code",
   "execution_count": 24,
   "id": "77ee63a6",
   "metadata": {},
   "outputs": [],
   "source": [
    "# # Negative log likelihood\n",
    "# loss = -probs[torch.arange(32), Y].log().mean()\n",
    "# loss"
   ]
  },
  {
   "cell_type": "markdown",
   "id": "4a7176f2",
   "metadata": {},
   "source": [
    "## SUMMARISING"
   ]
  },
  {
   "cell_type": "code",
   "execution_count": 25,
   "id": "30db4d0a",
   "metadata": {},
   "outputs": [
    {
     "data": {
      "text/plain": [
       "(torch.Size([228522, 3]), torch.Size([228522]))"
      ]
     },
     "execution_count": 25,
     "metadata": {},
     "output_type": "execute_result"
    }
   ],
   "source": [
    "X.shape , Y.shape"
   ]
  },
  {
   "cell_type": "code",
   "execution_count": 26,
   "id": "a965e4aa",
   "metadata": {},
   "outputs": [],
   "source": [
    "g = torch.Generator().manual_seed(2147483647)\n",
    "#----Embedding layer-------\n",
    "C = torch.randn((27,2), generator = g)\n",
    "\n",
    "#----Hidden Layer -------\n",
    "W1 = torch.randn((6, 100), generator = g)\n",
    "b1 = torch.randn(100, generator = g)\n",
    "\n",
    "# ----Output Layer--------\n",
    "W2 = torch.randn((100,27), generator = g)\n",
    "b2 = torch.randn(27, generator = g)\n",
    "\n",
    "parameters = [C, W1, b1, W2, b2]"
   ]
  },
  {
   "cell_type": "code",
   "execution_count": 27,
   "id": "de1d89d8",
   "metadata": {},
   "outputs": [
    {
     "name": "stdout",
     "output_type": "stream",
     "text": [
      "Number of parameters of this model : 3481\n"
     ]
    }
   ],
   "source": [
    "print(f\"Number of parameters of this model : {sum(p.nelement() for p in parameters)}\")"
   ]
  },
  {
   "cell_type": "code",
   "execution_count": 28,
   "id": "e997d6f6",
   "metadata": {},
   "outputs": [
    {
     "data": {
      "text/plain": [
       "tensor(19.5028)"
      ]
     },
     "execution_count": 28,
     "metadata": {},
     "output_type": "execute_result"
    }
   ],
   "source": [
    "emb = C[X] \n",
    "h = torch.tanh(emb.view(-1, 6) @ W1+b1) #(32, 100)\n",
    "logits = h @ W2+b2\n",
    "# counts = logits.exp()\n",
    "# probs = counts / counts.sum(1, keepdims = True)\n",
    "# loss = -probs[torch.arange(32), Y].log().mean()\n",
    "loss = F.cross_entropy(logits, Y)\n",
    "loss"
   ]
  },
  {
   "cell_type": "code",
   "execution_count": 29,
   "id": "e9f563c1",
   "metadata": {},
   "outputs": [
    {
     "data": {
      "text/plain": [
       "tensor(19.5028)"
      ]
     },
     "execution_count": 29,
     "metadata": {},
     "output_type": "execute_result"
    }
   ],
   "source": [
    "F.cross_entropy(logits, Y)"
   ]
  },
  {
   "cell_type": "markdown",
   "id": "37f65fbf",
   "metadata": {},
   "source": [
    "## Training\n",
    "#### Now we want to minimise this particular loss"
   ]
  },
  {
   "cell_type": "code",
   "execution_count": 30,
   "id": "85b6c9bd",
   "metadata": {},
   "outputs": [],
   "source": [
    "for p in parameters : \n",
    "    p.requires_grad = True"
   ]
  },
  {
   "cell_type": "code",
   "execution_count": 31,
   "id": "7395bfa7",
   "metadata": {},
   "outputs": [],
   "source": [
    "# for _ in range(10): \n",
    "#     # Forward Pass\n",
    "#     emb = C[X] \n",
    "#     h = torch.tanh(emb.view(-1, 6) @ W1+b1) #(32, 100)\n",
    "#     logits = h @ W2+b2\n",
    "#     loss = F.cross_entropy(logits, Y)\n",
    "#     print(f'Loss : {loss.item()}')\n",
    "\n",
    "#     # Backward Pass\n",
    "#     for p in parameters:\n",
    "#         p.grad = None\n",
    "#     loss.backward()\n",
    "\n",
    "#     # Update\n",
    "#     for p in parameters:\n",
    "#         p.data += -0.1 * p.grad"
   ]
  },
  {
   "cell_type": "markdown",
   "id": "ca4c4751",
   "metadata": {},
   "source": [
    "It takes a long time to calculate loss as we are going throug all. We should go through batches and calculate loss"
   ]
  },
  {
   "cell_type": "markdown",
   "id": "95cc1d9e",
   "metadata": {},
   "source": [
    "### Mini batch training "
   ]
  },
  {
   "cell_type": "code",
   "execution_count": 32,
   "id": "e533f799",
   "metadata": {},
   "outputs": [
    {
     "data": {
      "text/plain": [
       "tensor([ 87729, 134121, 124317,  87030, 124189, 112373,  69834, 120658, 219406,\n",
       "        108622, 157461, 225049,  86645,   3000,  56463,  18567,  68806,  95118,\n",
       "         24976, 166083, 109837, 182137, 154380, 221744, 181763, 125325,  11840,\n",
       "         67156, 220454, 125748,  74735,  22351])"
      ]
     },
     "execution_count": 32,
     "metadata": {},
     "output_type": "execute_result"
    }
   ],
   "source": [
    "torch.randint(0, X.shape[0], (32,)) # this is the random indexes of our dataset"
   ]
  },
  {
   "cell_type": "code",
   "execution_count": 33,
   "id": "a9766ae1",
   "metadata": {},
   "outputs": [],
   "source": [
    "lre = torch.linspace(-3, 0, 1000) # learning rate exponents\n",
    "lrs = 10**lre\n",
    "#lrs # candidates for learning rates"
   ]
  },
  {
   "cell_type": "code",
   "execution_count": 34,
   "id": "8c94144c",
   "metadata": {},
   "outputs": [],
   "source": [
    "lri = []\n",
    "lossi = []\n",
    "for i in range(1000): \n",
    "    \n",
    "    # mini batch construct\n",
    "    ix = torch.randint(0, X.shape[0], (32,))\n",
    "    # Forward Pass\n",
    "    emb = C[X[ix]]  # 32,3,2\n",
    "    h = torch.tanh(emb.view(-1, 6) @ W1+b1) #(32, 100)\n",
    "    logits = h @ W2+b2\n",
    "    loss = F.cross_entropy(logits, Y[ix])\n",
    "    #print(f'Loss : {loss.item()}')\n",
    "\n",
    "    # Backward Pass\n",
    "    for p in parameters:\n",
    "        p.grad = None\n",
    "    loss.backward()\n",
    "    \n",
    "    # Update\n",
    "    lr = lrs[i]\n",
    "    for p in parameters:\n",
    "        p.data += -lr * p.grad\n",
    "    \n",
    "    # track stats\n",
    "    lri.append(lre[i])\n",
    "    lossi.append(loss.item())\n",
    "    \n",
    "#print(f'Loss : {loss.item()}')"
   ]
  },
  {
   "cell_type": "code",
   "execution_count": 35,
   "id": "921e9bb8",
   "metadata": {},
   "outputs": [
    {
     "data": {
      "text/plain": [
       "[<matplotlib.lines.Line2D at 0x7fda93b25510>]"
      ]
     },
     "execution_count": 35,
     "metadata": {},
     "output_type": "execute_result"
    },
    {
     "data": {
      "image/png": "[encoded data removed]",
      "text/plain": [
       "<Figure size 640x480 with 1 Axes>"
      ]
     },
     "metadata": {},
     "output_type": "display_data"
    }
   ],
   "source": [
    "plt.plot(lri, lossi)"
   ]
  },
  {
   "cell_type": "code",
   "execution_count": 36,
   "id": "e91bc85c",
   "metadata": {},
   "outputs": [],
   "source": [
    "lri = []\n",
    "lossi = []\n",
    "for i in range(9000): \n",
    "    \n",
    "    # mini batch construct\n",
    "    ix = torch.randint(0, X.shape[0], (32,))\n",
    "    # Forward Pass\n",
    "    emb = C[X[ix]]  # 32,3,2\n",
    "    h = torch.tanh(emb.view(-1, 6) @ W1+b1) #(32, 100)\n",
    "    logits = h @ W2+b2\n",
    "    loss = F.cross_entropy(logits, Y[ix])\n",
    "    #print(f'Loss : {loss.item()}')\n",
    "\n",
    "    # Backward Pass\n",
    "    for p in parameters:\n",
    "        p.grad = None\n",
    "    loss.backward()\n",
    "    \n",
    "    # Update\n",
    "    #lr = lrs[i]\n",
    "    lr = 0.01\n",
    "    for p in parameters:\n",
    "        p.data += -lr * p.grad\n",
    "    \n",
    "    # track stats\n",
    "    #lri.append(lre[i])\n",
    "    #lossi.append(loss.item())\n",
    "    \n",
    "#print(f'Loss : {loss.item()}')"
   ]
  },
  {
   "cell_type": "markdown",
   "id": "035d6f23",
   "metadata": {},
   "source": [
    "### best lr exponent comes out to be -1 that is lr = 0.1"
   ]
  },
  {
   "cell_type": "code",
   "execution_count": 37,
   "id": "21db7c1d",
   "metadata": {},
   "outputs": [
    {
     "data": {
      "text/plain": [
       "tensor(2.5165, grad_fn=<NllLossBackward0>)"
      ]
     },
     "execution_count": 37,
     "metadata": {},
     "output_type": "execute_result"
    }
   ],
   "source": [
    "emb = C[X]\n",
    "h = torch.tanh(emb.view(-1, 6) @ W1+b1)\n",
    "logits = h @ W2 +b2\n",
    "loss = F.cross_entropy(logits, Y)\n",
    "loss"
   ]
  },
  {
   "cell_type": "markdown",
   "id": "d3c1330b",
   "metadata": {},
   "source": [
    "### Best loss till now than bigram 2.31 < 2.45"
   ]
  },
  {
   "cell_type": "markdown",
   "id": "333d32ef",
   "metadata": {},
   "source": [
    "## Train test and val split"
   ]
  },
  {
   "cell_type": "code",
   "execution_count": 38,
   "id": "fb6e3012",
   "metadata": {},
   "outputs": [
    {
     "name": "stdout",
     "output_type": "stream",
     "text": [
      "torch.Size([182603, 3]) torch.Size([182603])\n",
      "torch.Size([23085, 3]) torch.Size([23085])\n",
      "torch.Size([22834, 3]) torch.Size([22834])\n"
     ]
    }
   ],
   "source": [
    "# build the dataset\n",
    "block_size = 3 # context length: how many characters do we take to predict the next one?\n",
    "\n",
    "def build_dataset(words):  \n",
    "  X, Y = [], []\n",
    "  for w in words:\n",
    "\n",
    "    #print(w)\n",
    "    context = [0] * block_size\n",
    "    for ch in w + '.':\n",
    "      ix = stoi[ch]\n",
    "      X.append(context)\n",
    "      Y.append(ix)\n",
    "      #print(''.join(itos[i] for i in context), '--->', itos[ix])\n",
    "      context = context[1:] + [ix] # crop and append\n",
    "\n",
    "  X = torch.tensor(X)\n",
    "  Y = torch.tensor(Y)\n",
    "  print(X.shape, Y.shape)\n",
    "  return X, Y\n",
    "\n",
    "import random\n",
    "random.seed(42)\n",
    "random.shuffle(words)\n",
    "n1 = int(0.8*len(words))\n",
    "n2 = int(0.9*len(words))\n",
    "\n",
    "Xtr, Ytr = build_dataset(words[:n1])\n",
    "Xdev, Ydev = build_dataset(words[n1:n2])\n",
    "Xte, Yte = build_dataset(words[n2:])"
   ]
  },
  {
   "cell_type": "code",
   "execution_count": 39,
   "id": "518ce213",
   "metadata": {},
   "outputs": [
    {
     "data": {
      "text/plain": [
       "(32084, 25667, 28875)"
      ]
     },
     "execution_count": 39,
     "metadata": {},
     "output_type": "execute_result"
    }
   ],
   "source": [
    "len(words), n1, n2"
   ]
  },
  {
   "cell_type": "code",
   "execution_count": 40,
   "id": "02b5eeb4",
   "metadata": {},
   "outputs": [
    {
     "data": {
      "text/plain": [
       "(torch.Size([182603, 3]), torch.Size([182603]))"
      ]
     },
     "execution_count": 40,
     "metadata": {},
     "output_type": "execute_result"
    }
   ],
   "source": [
    "Xtr.shape, Ytr.shape"
   ]
  },
  {
   "cell_type": "code",
   "execution_count": 41,
   "id": "f8edb27b",
   "metadata": {},
   "outputs": [
    {
     "name": "stdout",
     "output_type": "stream",
     "text": [
      "Number of parameters of this model : 10281\n"
     ]
    }
   ],
   "source": [
    "g = torch.Generator().manual_seed(2147483647)\n",
    "#----Embedding layer-------\n",
    "C = torch.randn((27,2), generator = g)\n",
    "\n",
    "#----Hidden Layer -------\n",
    "W1 = torch.randn((6, 300), generator = g)\n",
    "b1 = torch.randn(300, generator = g)\n",
    "\n",
    "# ----Output Layer--------\n",
    "W2 = torch.randn((300,27), generator = g)\n",
    "b2 = torch.randn(27, generator = g)\n",
    "\n",
    "parameters = [C, W1, b1, W2, b2]\n",
    "print(f\"Number of parameters of this model : {sum(p.nelement() for p in parameters)}\")\n",
    "\n",
    "for p in parameters : \n",
    "    p.requires_grad = True"
   ]
  },
  {
   "cell_type": "code",
   "execution_count": 42,
   "id": "97e7772e",
   "metadata": {},
   "outputs": [],
   "source": [
    "lri = []\n",
    "lossi = []\n",
    "stepi = []"
   ]
  },
  {
   "cell_type": "code",
   "execution_count": 63,
   "id": "677820a2",
   "metadata": {},
   "outputs": [
    {
     "name": "stdout",
     "output_type": "stream",
     "text": [
      "Loss : 2.309565305709839\n"
     ]
    }
   ],
   "source": [
    "for i in range(20000): \n",
    "    \n",
    "    # mini batch construct\n",
    "    ix = torch.randint(0, Xtr.shape[0], (32,))\n",
    "    # Forward Pass\n",
    "    emb = C[Xtr[ix]]  # 32,3,2\n",
    "    h = torch.tanh(emb.view(-1, 6) @ W1+b1) #(32, 100)\n",
    "    logits = h @ W2+b2\n",
    "    loss = F.cross_entropy(logits, Ytr[ix])\n",
    "    #print(f'Loss : {loss.item()}')\n",
    "\n",
    "    # Backward Pass\n",
    "    for p in parameters:\n",
    "        p.grad = None\n",
    "    loss.backward()\n",
    "    \n",
    "    # Update\n",
    "    #lr = lrs[i]\n",
    "    lr = 0.01\n",
    "    for p in parameters:\n",
    "        p.data += -lr * p.grad\n",
    "    \n",
    "    # track stats\n",
    "    #lri.append(lre[i])\n",
    "    stepi.append(i)\n",
    "    lossi.append(loss.item())\n",
    "    \n",
    "print(f'Loss : {loss.item()}')"
   ]
  },
  {
   "cell_type": "code",
   "execution_count": 64,
   "id": "21ccf984",
   "metadata": {},
   "outputs": [
    {
     "data": {
      "text/plain": [
       "[<matplotlib.lines.Line2D at 0x7fda414e9010>]"
      ]
     },
     "execution_count": 64,
     "metadata": {},
     "output_type": "execute_result"
    },
    {
     "data": {
      "image/png": "[encoded data removed]",
      "text/plain": [
       "<Figure size 640x480 with 1 Axes>"
      ]
     },
     "metadata": {},
     "output_type": "display_data"
    }
   ],
   "source": [
    "plt.plot(stepi, lossi)"
   ]
  },
  {
   "cell_type": "markdown",
   "id": "f6f68ff4",
   "metadata": {},
   "source": [
    "### Evaluating the loss through the Val set\n",
    "Not ovefitting but underfitting"
   ]
  },
  {
   "cell_type": "code",
   "execution_count": 65,
   "id": "835a5042",
   "metadata": {},
   "outputs": [
    {
     "data": {
      "text/plain": [
       "tensor(2.2230, grad_fn=<NllLossBackward0>)"
      ]
     },
     "execution_count": 65,
     "metadata": {},
     "output_type": "execute_result"
    }
   ],
   "source": [
    "emb = C[Xdev]\n",
    "h = torch.tanh(emb.view(-1, 6) @ W1+b1)\n",
    "logits = h @ W2 +b2\n",
    "loss = F.cross_entropy(logits, Ydev)\n",
    "loss"
   ]
  },
  {
   "cell_type": "code",
   "execution_count": 66,
   "id": "d598016d",
   "metadata": {},
   "outputs": [
    {
     "data": {
      "text/plain": [
       "tensor(2.2054, grad_fn=<NllLossBackward0>)"
      ]
     },
     "execution_count": 66,
     "metadata": {},
     "output_type": "execute_result"
    }
   ],
   "source": [
    "emb = C[Xtr]\n",
    "h = torch.tanh(emb.view(-1, 6) @ W1+b1)\n",
    "logits = h @ W2 +b2\n",
    "loss = F.cross_entropy(logits, Ytr)\n",
    "loss"
   ]
  },
  {
   "cell_type": "markdown",
   "id": "c2a97c55",
   "metadata": {},
   "source": [
    "### The val loss does not increase much after doing learning rate decay and training for many times. May be the bottle neck now is the embedding vectors being two dimensional"
   ]
  },
  {
   "cell_type": "code",
   "execution_count": 47,
   "id": "1c59ab43",
   "metadata": {},
   "outputs": [
    {
     "data": {
      "image/png": "[encoded data removed]",
      "text/plain": [
       "<Figure size 800x800 with 1 Axes>"
      ]
     },
     "metadata": {},
     "output_type": "display_data"
    }
   ],
   "source": [
    "# visualize dimensions 0 and 1 of the embedding matrix C for all characters\n",
    "plt.figure(figsize=(8,8))\n",
    "plt.scatter(C[:,0].data, C[:,1].data, s=200)\n",
    "for i in range(C.shape[0]):\n",
    "    plt.text(C[i,0].item(), C[i,1].item(), itos[i], ha=\"center\", va=\"center\", color='white')\n",
    "plt.grid('minor')"
   ]
  },
  {
   "cell_type": "markdown",
   "id": "e2436248",
   "metadata": {},
   "source": [
    "### After training for more times, changing number of steps"
   ]
  },
  {
   "cell_type": "code",
   "execution_count": 67,
   "id": "7ebbf5e6",
   "metadata": {},
   "outputs": [
    {
     "data": {
      "image/png": "[encoded data removed]",
      "text/plain": [
       "<Figure size 800x800 with 1 Axes>"
      ]
     },
     "metadata": {},
     "output_type": "display_data"
    }
   ],
   "source": [
    "# visualize dimensions 0 and 1 of the embedding matrix C for all characters\n",
    "plt.figure(figsize=(8,8))\n",
    "plt.scatter(C[:,0].data, C[:,1].data, s=200)\n",
    "for i in range(C.shape[0]):\n",
    "    plt.text(C[i,0].item(), C[i,1].item(), itos[i], ha=\"center\", va=\"center\", color='white')\n",
    "plt.grid('minor')"
   ]
  },
  {
   "cell_type": "markdown",
   "id": "9948ec7d",
   "metadata": {},
   "source": [
    "### After increasing the number of dimensions of the embedding"
   ]
  },
  {
   "cell_type": "code",
   "execution_count": 76,
   "id": "e6d3c60a",
   "metadata": {},
   "outputs": [
    {
     "name": "stdout",
     "output_type": "stream",
     "text": [
      "Number of parameters of this model : 11897\n"
     ]
    }
   ],
   "source": [
    "g = torch.Generator().manual_seed(2147483647)\n",
    "#----Embedding layer-------\n",
    "C = torch.randn((27,10), generator = g)\n",
    "\n",
    "#----Hidden Layer -------\n",
    "W1 = torch.randn((30, 200), generator = g)\n",
    "b1 = torch.randn(200, generator = g)\n",
    "\n",
    "# ----Output Layer--------\n",
    "W2 = torch.randn((200,27), generator = g)\n",
    "b2 = torch.randn(27, generator = g)\n",
    "\n",
    "parameters = [C, W1, b1, W2, b2]\n",
    "print(f\"Number of parameters of this model : {sum(p.nelement() for p in parameters)}\")\n",
    "\n",
    "for p in parameters : \n",
    "    p.requires_grad = True"
   ]
  },
  {
   "cell_type": "code",
   "execution_count": 77,
   "id": "f0208a09",
   "metadata": {},
   "outputs": [],
   "source": [
    "lri = []\n",
    "lossi = []\n",
    "stepi = []"
   ]
  },
  {
   "cell_type": "code",
   "execution_count": 78,
   "id": "b267eb51",
   "metadata": {},
   "outputs": [
    {
     "name": "stdout",
     "output_type": "stream",
     "text": [
      "Loss : 1.9365967512130737\n"
     ]
    }
   ],
   "source": [
    "for i in range(200000): \n",
    "    \n",
    "    # mini batch construct\n",
    "    ix = torch.randint(0, Xtr.shape[0], (32,))\n",
    "    # Forward Pass\n",
    "    emb = C[Xtr[ix]]  # 32,3,2\n",
    "    h = torch.tanh(emb.view(-1, 30) @ W1+b1) #(32, 100)\n",
    "    logits = h @ W2+b2\n",
    "    loss = F.cross_entropy(logits, Ytr[ix])\n",
    "    #print(f'Loss : {loss.item()}')\n",
    "\n",
    "    # Backward Pass\n",
    "    for p in parameters:\n",
    "        p.grad = None\n",
    "    loss.backward()\n",
    "    \n",
    "    # Update\n",
    "    #lr = lrs[i]\n",
    "    lr = 0.1 if i < 100000 else 0.01\n",
    "    for p in parameters:\n",
    "        p.data += -lr * p.grad\n",
    "    \n",
    "    # track stats\n",
    "    #lri.append(lre[i])\n",
    "    stepi.append(i)\n",
    "    lossi.append(loss.log10().item())\n",
    "    \n",
    "print(f'Loss : {loss.item()}')"
   ]
  },
  {
   "cell_type": "code",
   "execution_count": 79,
   "id": "fb835341",
   "metadata": {},
   "outputs": [
    {
     "data": {
      "text/plain": [
       "tensor(2.1604, grad_fn=<NllLossBackward0>)"
      ]
     },
     "execution_count": 79,
     "metadata": {},
     "output_type": "execute_result"
    }
   ],
   "source": [
    "emb = C[Xdev]\n",
    "h = torch.tanh(emb.view(-1, 30) @ W1+b1)\n",
    "logits = h @ W2 +b2\n",
    "loss = F.cross_entropy(logits, Ydev)\n",
    "loss"
   ]
  },
  {
   "cell_type": "code",
   "execution_count": 80,
   "id": "fd2484f7",
   "metadata": {},
   "outputs": [
    {
     "data": {
      "text/plain": [
       "tensor(2.1178, grad_fn=<NllLossBackward0>)"
      ]
     },
     "execution_count": 80,
     "metadata": {},
     "output_type": "execute_result"
    }
   ],
   "source": [
    "emb = C[Xtr]\n",
    "h = torch.tanh(emb.view(-1, 30) @ W1+b1)\n",
    "logits = h @ W2 +b2\n",
    "loss = F.cross_entropy(logits, Ytr)\n",
    "loss"
   ]
  },
  {
   "cell_type": "code",
   "execution_count": 81,
   "id": "e33db68c",
   "metadata": {},
   "outputs": [
    {
     "data": {
      "image/png": "[encoded data removed]",
      "text/plain": [
       "<Figure size 800x800 with 1 Axes>"
      ]
     },
     "metadata": {},
     "output_type": "display_data"
    }
   ],
   "source": [
    "# visualize dimensions 0 and 1 of the embedding matrix C for all characters\n",
    "plt.figure(figsize=(8,8))\n",
    "plt.scatter(C[:,0].data, C[:,1].data, s=200)\n",
    "for i in range(C.shape[0]):\n",
    "    plt.text(C[i,0].item(), C[i,1].item(), itos[i], ha=\"center\", va=\"center\", color='white')\n",
    "plt.grid('minor')"
   ]
  },
  {
   "cell_type": "code",
   "execution_count": null,
   "id": "93dba57b",
   "metadata": {},
   "outputs": [],
   "source": [
    "##"
   ]
  }
 ],
 "metadata": {
  "kernelspec": {
   "display_name": "Python 3 (ipykernel)",
   "language": "python",
   "name": "python3"
  },
  "language_info": {
   "codemirror_mode": {
    "name": "ipython",
    "version": 3
   },
   "file_extension": ".py",
   "mimetype": "text/x-python",
   "name": "python",
   "nbconvert_exporter": "python",
   "pygments_lexer": "ipython3",
   "version": "3.11.4"
  }
 },
 "nbformat": 4,
 "nbformat_minor": 5
}
