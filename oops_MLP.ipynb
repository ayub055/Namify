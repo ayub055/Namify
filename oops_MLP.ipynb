{
 "cells": [
  {
   "cell_type": "code",
   "execution_count": 1,
   "id": "4a256235",
   "metadata": {},
   "outputs": [
    {
     "name": "stdout",
     "output_type": "stream",
     "text": [
      "['emma', 'olivia', 'ava', 'isabella', 'sophia', 'charlotte', 'mia', 'amelia']\n",
      "Number of words in the file : 32084\n",
      "vocab size is : 27\n"
     ]
    }
   ],
   "source": [
    "import torch\n",
    "import torch.nn.functional as F\n",
    "import matplotlib.pyplot as plt # for making figures\n",
    "%matplotlib inline\n",
    "\n",
    "words = open('names.txt', 'r').read().splitlines()\n",
    "print(words[:8])\n",
    "print(f'Number of words in the file : {len(words)}')\n",
    "\n",
    "# Building VOCAB\n",
    "chars = sorted(list(set(''.join(words))))\n",
    "stoi = {s:i+1 for i,s in enumerate(chars)}\n",
    "stoi['.'] = 0\n",
    "itos = {i:s for s, i in stoi.items()}\n",
    "vocab_size = len(itos)\n",
    "#print(itos)\n",
    "print(f\"vocab size is : {vocab_size}\")"
   ]
  },
  {
   "cell_type": "code",
   "execution_count": 2,
   "id": "42b5603b",
   "metadata": {},
   "outputs": [
    {
     "name": "stdout",
     "output_type": "stream",
     "text": [
      "torch.Size([182603, 3]) torch.Size([182603])\n",
      "torch.Size([23085, 3]) torch.Size([23085])\n",
      "torch.Size([22834, 3]) torch.Size([22834])\n"
     ]
    }
   ],
   "source": [
    "# build the dataset\n",
    "block_size = 3 # context length: how many characters do we take to predict the next one?\n",
    "\n",
    "def build_dataset(words):  \n",
    "  X, Y = [], []\n",
    "  \n",
    "  for w in words:\n",
    "    context = [0] * block_size\n",
    "    for ch in w + '.':\n",
    "      ix = stoi[ch]\n",
    "      X.append(context)\n",
    "      Y.append(ix)\n",
    "      context = context[1:] + [ix] # crop and append\n",
    "\n",
    "  X = torch.tensor(X)\n",
    "  Y = torch.tensor(Y)\n",
    "  print(X.shape, Y.shape)\n",
    "  return X, Y\n",
    "\n",
    "import random\n",
    "random.seed(42)\n",
    "random.shuffle(words)\n",
    "n1 = int(0.8*len(words))\n",
    "n2 = int(0.9*len(words))\n",
    "\n",
    "Xtr,  Ytr  = build_dataset(words[:n1])     # 80%\n",
    "Xdev, Ydev = build_dataset(words[n1:n2])   # 10%\n",
    "Xte,  Yte  = build_dataset(words[n2:])  "
   ]
  },
  {
   "cell_type": "markdown",
   "id": "bfc768c3",
   "metadata": {},
   "source": [
    "### Linear Layer"
   ]
  },
  {
   "cell_type": "code",
   "execution_count": 3,
   "id": "f1dc683e",
   "metadata": {},
   "outputs": [],
   "source": [
    "class Linear:\n",
    "  \n",
    "  def __init__(self, fan_in, fan_out, bias=True):\n",
    "    self.weight = torch.randn((fan_in, fan_out), generator=g) / fan_in**0.5\n",
    "    self.bias = torch.zeros(fan_out) if bias else None\n",
    "  \n",
    "  def __call__(self, x):\n",
    "    self.out = x @ self.weight\n",
    "    if self.bias is not None:\n",
    "      self.out += self.bias\n",
    "    return self.out\n",
    "  \n",
    "  def parameters(self):\n",
    "    return [self.weight] + ([] if self.bias is None else [self.bias])"
   ]
  },
  {
   "cell_type": "markdown",
   "id": "2290cb9a",
   "metadata": {},
   "source": [
    "### BatchNorm1d Layer"
   ]
  },
  {
   "cell_type": "code",
   "execution_count": 6,
   "id": "d07f4027",
   "metadata": {},
   "outputs": [],
   "source": [
    "class BatchNorm1d:\n",
    "  \n",
    "  def __init__(self, dim, eps=1e-5, momentum=0.1):\n",
    "    self.eps = eps\n",
    "    self.momentum = momentum\n",
    "    self.training = True\n",
    "    # parameters (trained with backprop)\n",
    "    self.gamma = torch.ones(dim)\n",
    "    self.beta = torch.zeros(dim)\n",
    "    # buffers (trained with a running 'momentum update')\n",
    "    self.running_mean = torch.zeros(dim)\n",
    "    self.running_var = torch.ones(dim)\n",
    "  \n",
    "  def __call__(self, x):\n",
    "    # calculate the forward pass\n",
    "    if self.training:\n",
    "      xmean = x.mean(0, keepdim=True) # batch mean\n",
    "      xvar = x.var(0, keepdim=True) # batch variance\n",
    "    else:\n",
    "      xmean = self.running_mean\n",
    "      xvar = self.running_var\n",
    "    xhat = (x - xmean) / torch.sqrt(xvar + self.eps) # normalize to unit variance\n",
    "    self.out = self.gamma * xhat + self.beta\n",
    "    # update the buffers\n",
    "    if self.training:\n",
    "      with torch.no_grad():\n",
    "        self.running_mean = (1 - self.momentum) * self.running_mean + self.momentum * xmean\n",
    "        self.running_var = (1 - self.momentum) * self.running_var + self.momentum * xvar\n",
    "    return self.out\n",
    "  \n",
    "  def parameters(self):\n",
    "    return [self.gamma, self.beta]"
   ]
  },
  {
   "cell_type": "markdown",
   "id": "b6331ccd",
   "metadata": {},
   "source": [
    "### Activation"
   ]
  },
  {
   "cell_type": "code",
   "execution_count": 7,
   "id": "6a0e4ed7",
   "metadata": {},
   "outputs": [],
   "source": [
    "class Tanh:\n",
    "  def __call__(self, x):\n",
    "    self.out = torch.tanh(x)\n",
    "    return self.out\n",
    "  def parameters(self):\n",
    "    return []"
   ]
  },
  {
   "cell_type": "markdown",
   "id": "0fa7efaa",
   "metadata": {},
   "source": [
    "## Model"
   ]
  },
  {
   "cell_type": "code",
   "execution_count": 10,
   "id": "dded97c1",
   "metadata": {},
   "outputs": [
    {
     "name": "stdout",
     "output_type": "stream",
     "text": [
      "45970\n"
     ]
    }
   ],
   "source": [
    "n_embd = 10 # the dimensionality of the character embedding vectors\n",
    "n_hidden = 100 # the number of neurons in the hidden layer of the MLP\n",
    "g = torch.Generator().manual_seed(2147483647) # for reproducibility\n",
    "\n",
    "C = torch.randn((vocab_size, n_embd), generator=g)\n",
    "layers = [\n",
    "#----Layer 1------\n",
    "  Linear(n_embd * block_size, n_hidden, bias=False), \n",
    "  #BatchNorm1d(n_hidden), \n",
    "  Tanh(),\n",
    "# ---Layer 2 -----\n",
    "  Linear(n_hidden, n_hidden, bias=False), \n",
    "  #BatchNorm1d(n_hidden),\n",
    "  Tanh(),\n",
    "# ---Layer 3 ----- \n",
    "  Linear(n_hidden, n_hidden, bias=False), \n",
    "  #BatchNorm1d(n_hidden),\n",
    "  Tanh(),\n",
    "# ---Layer 4 ----- \n",
    "  Linear(n_hidden, n_hidden, bias=False),\n",
    "  #BatchNorm1d(n_hidden),\n",
    "  Tanh(),\n",
    "# ---Layer 5 -----\n",
    "  Linear(n_hidden, n_hidden, bias=False),\n",
    "  #BatchNorm1d(n_hidden), \n",
    "  Tanh(),\n",
    "# ---Layer 6 -----\n",
    "  Linear(n_hidden, vocab_size, bias=False), \n",
    "  #BatchNorm1d(vocab_size),\n",
    "]\n",
    "\n",
    "with torch.no_grad():\n",
    "  # last layer: make less confident\n",
    "  \n",
    "  layers[-1].weight *= 0.1\n",
    "  # all other layers: apply gain\n",
    "  for layer in layers[:-1]:\n",
    "    if isinstance(layer, Linear):\n",
    "      layer.weight *= 5/3\n",
    "\n",
    "parameters = [C] + [p for layer in layers for p in layer.parameters()]\n",
    "print(sum(p.nelement() for p in parameters)) # number of parameters in total\n",
    "for p in parameters:\n",
    "  p.requires_grad = True"
   ]
  },
  {
   "cell_type": "code",
   "execution_count": 11,
   "id": "ddf75b6a",
   "metadata": {},
   "outputs": [
    {
     "name": "stdout",
     "output_type": "stream",
     "text": [
      "loss -->      0/ 200000: 3.3009\n",
      "loss -->  10000/ 200000: 2.0381\n",
      "loss -->  20000/ 200000: 2.4680\n",
      "loss -->  30000/ 200000: 2.1650\n",
      "loss -->  40000/ 200000: 2.2115\n",
      "loss -->  50000/ 200000: 1.7809\n",
      "loss -->  60000/ 200000: 2.3042\n",
      "loss -->  70000/ 200000: 1.9355\n",
      "loss -->  80000/ 200000: 2.3423\n",
      "loss -->  90000/ 200000: 1.9930\n",
      "loss --> 100000/ 200000: 1.8873\n",
      "loss --> 110000/ 200000: 2.1533\n",
      "loss --> 120000/ 200000: 2.1022\n",
      "loss --> 130000/ 200000: 2.1315\n",
      "loss --> 140000/ 200000: 1.9278\n",
      "loss --> 150000/ 200000: 1.5714\n",
      "loss --> 160000/ 200000: 1.7359\n",
      "loss --> 170000/ 200000: 1.9304\n",
      "loss --> 180000/ 200000: 1.9094\n",
      "loss --> 190000/ 200000: 1.8691\n"
     ]
    }
   ],
   "source": [
    "# same optimization as last time\n",
    "max_steps = 200000\n",
    "batch_size = 32\n",
    "lossi = []\n",
    "\n",
    "for i in range(max_steps):\n",
    "\n",
    "  # minibatch construct\n",
    "  ix = torch.randint(0, Xtr.shape[0], (batch_size,), generator=g)\n",
    "  Xb, Yb = Xtr[ix], Ytr[ix] # batch X,Y\n",
    "  \n",
    "  # forward pass\n",
    "  emb = C[Xb] # embed the characters into vectors\n",
    "  x = emb.view(emb.shape[0], -1) # concatenate the vectors\n",
    "  for layer in layers: \n",
    "        x = layer(x)\n",
    "  loss = F.cross_entropy(x, Yb) # loss function\n",
    "  \n",
    "  # backward pass\n",
    "  for layer in layers: \n",
    "        layer.out.retain_grad()\n",
    "  for p in parameters:\n",
    "    p.grad = None\n",
    "  loss.backward()\n",
    "\n",
    "  # update\n",
    "  lr = 0.1 if i < 100000 else 0.01 # step learning rate decay\n",
    "  for p in parameters:\n",
    "    p.data += -lr * p.grad\n",
    "\n",
    "  # track stats\n",
    "  if i % 10000 == 0: # print every once in a while\n",
    "    print(f'loss -->{i:7d}/{max_steps:7d}: {loss.item():.4f}')\n",
    "  lossi.append(loss.log10().item())\n",
    "  #break"
   ]
  },
  {
   "cell_type": "code",
   "execution_count": null,
   "id": "12ce52fd",
   "metadata": {},
   "outputs": [],
   "source": []
  }
 ],
 "metadata": {
  "kernelspec": {
   "display_name": "Python 3 (ipykernel)",
   "language": "python",
   "name": "python3"
  },
  "language_info": {
   "codemirror_mode": {
    "name": "ipython",
    "version": 3
   },
   "file_extension": ".py",
   "mimetype": "text/x-python",
   "name": "python",
   "nbconvert_exporter": "python",
   "pygments_lexer": "ipython3",
   "version": "3.11.4"
  }
 },
 "nbformat": 4,
 "nbformat_minor": 5
}
